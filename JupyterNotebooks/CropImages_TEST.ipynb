{
 "cells": [
  {
   "cell_type": "code",
   "execution_count": 1,
   "metadata": {},
   "outputs": [],
   "source": [
    "#Prepare 256x256 tiles from NASA map"
   ]
  },
  {
   "cell_type": "code",
   "execution_count": 2,
   "metadata": {},
   "outputs": [],
   "source": [
    "from skimage.io import imread\n",
    "from PIL import Image\n",
    "\n",
    "import numpy as np\n",
    "import matplotlib.pyplot as plt\n",
    "import time\n",
    "import h5py"
   ]
  },
  {
   "cell_type": "code",
   "execution_count": 3,
   "metadata": {},
   "outputs": [],
   "source": [
    "# Decompression protection override only run on trusted files\n",
    "Image.MAX_IMAGE_PIXELS = None"
   ]
  },
  {
   "cell_type": "code",
   "execution_count": 4,
   "metadata": {},
   "outputs": [
    {
     "name": "stdout",
     "output_type": "stream",
     "text": [
      "(10800, 21600, 3)\n"
     ]
    }
   ],
   "source": [
    "texture = imread(\"data/word.3x21600x10800.jpg\")\n",
    "print(texture.shape)"
   ]
  },
  {
   "cell_type": "code",
   "execution_count": 5,
   "metadata": {},
   "outputs": [
    {
     "name": "stdout",
     "output_type": "stream",
     "text": [
      "(10800, 21600, 3)\n"
     ]
    }
   ],
   "source": [
    "heightmap = imread(\"data/heightmap.3x21600x10800JPG.jpg\")\n",
    "print(heightmap.shape)"
   ]
  },
  {
   "cell_type": "code",
   "execution_count": 6,
   "metadata": {},
   "outputs": [],
   "source": [
    "# Test tresholding for heightmaps"
   ]
  },
  {
   "cell_type": "code",
   "execution_count": 7,
   "metadata": {},
   "outputs": [
    {
     "name": "stdout",
     "output_type": "stream",
     "text": [
      "380\n",
      "10822\n"
     ]
    }
   ],
   "source": [
    "# generate random offset\n",
    "\n",
    "yoff = np.random.randint(0, heightmap.shape[0])\n",
    "xoff = np.random.randint(0, heightmap.shape[1])\n",
    "print(yoff)\n",
    "print(xoff)"
   ]
  },
  {
   "cell_type": "code",
   "execution_count": 8,
   "metadata": {
    "scrolled": true
   },
   "outputs": [
    {
     "data": {
      "text/plain": [
       "<matplotlib.image.AxesImage at 0x1e30eb87e10>"
      ]
     },
     "execution_count": 8,
     "metadata": {},
     "output_type": "execute_result"
    },
    {
     "data": {
      "image/png": "[encoded data removed]",
      "text/plain": [
       "<Figure size 432x288 with 2 Axes>"
      ]
     },
     "metadata": {
      "needs_background": "light"
     },
     "output_type": "display_data"
    }
   ],
   "source": [
    "#crop images\n",
    "\n",
    "texture_crp = texture[yoff:yoff+512, xoff:xoff+512]\n",
    "heightmap_crp = heightmap[yoff:yoff+512, xoff:xoff+512]\n",
    "\n",
    "#show plots\n",
    "plt.subplot(1,2,1)\n",
    "plt.imshow(texture_crp)\n",
    "plt.subplot(1,2,2)\n",
    "plt.imshow(heightmap_crp, cmap=\"gray\")"
   ]
  },
  {
   "cell_type": "code",
   "execution_count": 9,
   "metadata": {},
   "outputs": [
    {
     "name": "stdout",
     "output_type": "stream",
     "text": [
      "786432.0\n",
      "786432\n",
      "1.0\n"
     ]
    }
   ],
   "source": [
    "#show ratio of white to black\n",
    "crp_sum = (heightmap_crp==0).sum()*1.0\n",
    "print(crp_sum)\n",
    "crp_size = np.prod(heightmap_crp.shape)\n",
    "print(crp_size)\n",
    "black_ratio = crp_sum / float(crp_size)\n",
    "print(black_ratio)\n",
    "\n"
   ]
  },
  {
   "cell_type": "code",
   "execution_count": 10,
   "metadata": {},
   "outputs": [],
   "source": [
    "def comparator(heightmap_chunk):\n",
    "    # returns True if we should keep the chunk, otherwise False to discard it\n",
    "    # counts how mucj black is there in the heightmap\n",
    "    black_ratio = ((heightmap_chunk==0).sum()*1.0)/float(np.prod(heightmap_chunk.shape))\n",
    "    if black_ratio > 0.9:\n",
    "        return False\n",
    "    return True"
   ]
  },
  {
   "cell_type": "code",
   "execution_count": 11,
   "metadata": {},
   "outputs": [],
   "source": [
    "def get_chunks(img, img2, crop_size=1000, stride=1, max_n=None, debug=False, dry_run=False):\n",
    "    #img: texture map, img2: height map\n",
    "    assert img.shape[0] == img2.shape[0] and img.shape[1] == img2.shape[1]\n",
    "    ctr = 0\n",
    "    is_done = False\n",
    "    for y in range(0, img.shape[0], stride):\n",
    "        for x in range(0, img.shape[1], stride):\n",
    "            chunk = img[y:y+crop_size, x:x+crop_size] #texture\n",
    "            chunk2 = img2[y:y+crop_size,x:x+crop_size] #[:,:,np.newaxis] #heightmap\n",
    "            if chunk.shape != (crop_size, crop_size, 3):\n",
    "                continue\n",
    "            if not comparator(chunk2):\n",
    "                continue\n",
    "            if dry_run:\n",
    "                yield None\n",
    "            else:\n",
    "                yield chunk, chunk2\n",
    "                ctr += 1\n",
    "            if max_n != None and ctr == max_n:\n",
    "                return"
   ]
  },
  {
   "cell_type": "code",
   "execution_count": 12,
   "metadata": {},
   "outputs": [],
   "source": [
    "# create index, to see how many images must be saved"
   ]
  },
  {
   "cell_type": "code",
   "execution_count": 13,
   "metadata": {},
   "outputs": [
    {
     "name": "stdout",
     "output_type": "stream",
     "text": [
      "time taken to process: 0.555002 sec\n",
      "number of patches detected: 388\n"
     ]
    }
   ],
   "source": [
    "t0 = time.time()\n",
    "ctr2 = 0\n",
    "for chunk in get_chunks(texture, heightmap, crop_size=256, stride=500, max_n=None):\n",
    "    ctr2 += 1\n",
    "print(\"time taken to process: %f sec\" % (time.time()-t0))\n",
    "print(\"number of patches detected: %i\" % ctr2)"
   ]
  },
  {
   "cell_type": "code",
   "execution_count": 14,
   "metadata": {},
   "outputs": [
    {
     "data": {
      "text/plain": [
       "\"\\nOUT_FILE = 'data_256x256.hd5'\\nf = h5py.File(OUT_FILE, 'w')\\nf.create_dataset('xt', (num_train, 256, 256, 1), dtype='uint8')\\nf.create_dataset('yt', (num_train, 256, 256, 3), dtype='uint8')\\nf.create_dataset('xv', (num_valid, 256, 256, 1), dtype='uint8')\\nf.create_dataset('yv', (num_valid, 256, 256, 3), dtype='uint8')\\n\""
      ]
     },
     "execution_count": 14,
     "metadata": {},
     "output_type": "execute_result"
    }
   ],
   "source": [
    "num_train = int(ctr2*0.9)\n",
    "num_valid = int(ctr2*0.1)\n",
    "'''\n",
    "OUT_FILE = 'data_256x256.hd5'\n",
    "f = h5py.File(OUT_FILE, 'w')\n",
    "f.create_dataset('xt', (num_train, 256, 256, 1), dtype='uint8')\n",
    "f.create_dataset('yt', (num_train, 256, 256, 3), dtype='uint8')\n",
    "f.create_dataset('xv', (num_valid, 256, 256, 1), dtype='uint8')\n",
    "f.create_dataset('yv', (num_valid, 256, 256, 3), dtype='uint8')\n",
    "'''\n"
   ]
  },
  {
   "cell_type": "code",
   "execution_count": 15,
   "metadata": {},
   "outputs": [
    {
     "name": "stdout",
     "output_type": "stream",
     "text": [
      "388\n"
     ]
    }
   ],
   "source": [
    "idxs = [x for x in range(ctr2)]\n",
    "rnd_state = np.random.RandomState(0)\n",
    "rnd_state.shuffle(idxs)\n",
    "\n",
    "print(ctr2)"
   ]
  },
  {
   "cell_type": "code",
   "execution_count": 16,
   "metadata": {},
   "outputs": [
    {
     "name": "stdout",
     "output_type": "stream",
     "text": [
      "1.8873178958892822\n",
      "number of patches detected: 388\n"
     ]
    }
   ],
   "source": [
    "OUT_FILE = 'data_256x256.hdf5'\n",
    "\n",
    "f = h5py.File(OUT_FILE, 'w')\n",
    "f.create_dataset('sketches', (ctr2, 256, 256, 3), dtype='uint8')\n",
    "#f.create_dataset('heightmaps', (ctr2, 256, 256, 1), dtype='uint8')\n",
    "f.create_dataset('heightmaps', (ctr2, 256, 256, 3), dtype='uint8')\n",
    "\n",
    "t0 = time.time()\n",
    "ctr3 = 0\n",
    "for chunk1, chunk2 in get_chunks(texture, heightmap, crop_size=256, stride=500, max_n=None):\n",
    "    f[\"sketches\"][idxs[ctr3]]=chunk2\n",
    "    f[\"heightmaps\"][idxs[ctr3]]=chunk1\n",
    "    ctr3 += 1\n",
    "\n",
    "print(time.time()-t0)\n",
    "print(\"number of patches detected:\", ctr3)"
   ]
  },
  {
   "cell_type": "code",
   "execution_count": 17,
   "metadata": {},
   "outputs": [
    {
     "data": {
      "text/plain": [
       "<matplotlib.image.AxesImage at 0x1e30ecb3390>"
      ]
     },
     "execution_count": 17,
     "metadata": {},
     "output_type": "execute_result"
    },
    {
     "data": {
      "image/png": "[encoded data removed]",
      "text/plain": [
       "<Figure size 1080x1080 with 2 Axes>"
      ]
     },
     "metadata": {
      "needs_background": "light"
     },
     "output_type": "display_data"
    }
   ],
   "source": [
    "idx = 100\n",
    "plt.figure(figsize=(15,15))\n",
    "plt.subplot(1,2,1)\n",
    "plt.imshow(f['sketches'][idx]) #10000\n",
    "plt.subplot(1,2,2)\n",
    "plt.imshow(f['heightmaps'][idx][0:,:,0],cmap=\"gray\")"
   ]
  },
  {
   "cell_type": "code",
   "execution_count": 18,
   "metadata": {},
   "outputs": [],
   "source": [
    "f.close()"
   ]
  },
  {
   "cell_type": "code",
   "execution_count": null,
   "metadata": {},
   "outputs": [],
   "source": []
  }
 ],
 "metadata": {
  "kernelspec": {
   "display_name": "Python 3 (ipykernel)",
   "language": "python",
   "name": "python3"
  },
  "language_info": {
   "codemirror_mode": {
    "name": "ipython",
    "version": 3
   },
   "file_extension": ".py",
   "mimetype": "text/x-python",
   "name": "python",
   "nbconvert_exporter": "python",
   "pygments_lexer": "ipython3",
   "version": "3.8.3"
  }
 },
 "nbformat": 4,
 "nbformat_minor": 4
}
