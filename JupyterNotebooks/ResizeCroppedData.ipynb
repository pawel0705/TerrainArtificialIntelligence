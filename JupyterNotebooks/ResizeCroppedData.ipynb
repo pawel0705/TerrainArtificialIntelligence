{
 "cells": [
  {
   "cell_type": "code",
   "execution_count": 1,
   "id": "b709bcbd",
   "metadata": {},
   "outputs": [],
   "source": [
    "import cv2\n",
    "from PIL import Image\n",
    "import os"
   ]
  },
  {
   "cell_type": "code",
   "execution_count": 2,
   "id": "ece10859",
   "metadata": {},
   "outputs": [],
   "source": [
    "readDatasetPath = 'images/trainGIS/terrain_'\n",
    "readDatasetDirectory = 'images/trainGIS'\n",
    "saveDatasetPath = 'images/cropped/terrain_'\n",
    "\n",
    "resizeWidth = 256\n",
    "resizeHeight = 128"
   ]
  },
  {
   "cell_type": "code",
   "execution_count": null,
   "id": "1df2a6c5",
   "metadata": {},
   "outputs": [],
   "source": [
    "def resize_image(img, size=(28,28)):\n",
    "\n",
    "    h, w = img.shape[:2]\n",
    "    c = img.shape[2] if len(img.shape)>2 else 1\n",
    "\n",
    "    if h == w: \n",
    "        return cv2.resize(img, size, cv2.INTER_AREA)\n",
    "\n",
    "    dif = h if h > w else w\n",
    "\n",
    "    interpolation = cv2.INTER_AREA if dif > (size[0]+size[1])//2 else \n",
    "                    cv2.INTER_CUBIC\n",
    "\n",
    "    x_pos = (dif - w)//2\n",
    "    y_pos = (dif - h)//2\n",
    "\n",
    "    if len(img.shape) == 2:\n",
    "        mask = np.zeros((dif, dif), dtype=img.dtype)\n",
    "        mask[y_pos:y_pos+h, x_pos:x_pos+w] = img[:h, :w]\n",
    "    else:\n",
    "        mask = np.zeros((dif, dif, c), dtype=img.dtype)\n",
    "        mask[y_pos:y_pos+h, x_pos:x_pos+w, :] = img[:h, :w, :]\n",
    "\n",
    "    return cv2.resize(mask, size, interpolation)"
   ]
  },
  {
   "cell_type": "code",
   "execution_count": 3,
   "id": "43a9ecc1",
   "metadata": {},
   "outputs": [],
   "source": [
    "iterator = 0\n",
    "files_len_directory = len(os.listdir(readDatasetDirectory)) - 1\n",
    "\n",
    "for iterator in range(files_len_directory):       \n",
    "    dataImage = cv2.imread(readDatasetPath + str(iterator+1) + '.png')\n",
    "    \n",
    "    resized = resize_image(dataImage, )\n",
    "    \n",
    "    cv2.imwrite(saveDatasetPath + str(iterator + 1) + \".png\", resized)"
   ]
  }
 ],
 "metadata": {
  "kernelspec": {
   "display_name": "Python 3 (ipykernel)",
   "language": "python",
   "name": "python3"
  },
  "language_info": {
   "codemirror_mode": {
    "name": "ipython",
    "version": 3
   },
   "file_extension": ".py",
   "mimetype": "text/x-python",
   "name": "python",
   "nbconvert_exporter": "python",
   "pygments_lexer": "ipython3",
   "version": "3.8.3"
  }
 },
 "nbformat": 4,
 "nbformat_minor": 5
}
