{
 "cells": [
  {
   "cell_type": "code",
   "execution_count": 1,
   "metadata": {},
   "outputs": [],
   "source": [
    "# Imports\n",
    "import rasterio\n",
    "from rasterio.windows import Window\n",
    "import time\n",
    "from skimage.io import imread\n",
    "from PIL import Image\n",
    "import numpy as np\n",
    "import os"
   ]
  },
  {
   "cell_type": "code",
   "execution_count": 2,
   "metadata": {},
   "outputs": [],
   "source": [
    "# GeoTIFF from NASA src path\n",
    "\n",
    "topoPathA1 = 'data/topography_10800x10800_A1.tif'\n",
    "topoPathA2 = 'data/topography_10800x10800_A2.tif'\n",
    "topoPathB1 = 'data/topography_10800x10800_B1.tif'\n",
    "topoPathB2 = 'data/topography_10800x10800_B2.tif'\n",
    "topoPathC1 = 'data/topography_10800x10800_C1.tif'\n",
    "topoPathC2 = 'data/topography_10800x10800_C2.tif'\n",
    "topoPathD1 = 'data/topography_10800x10800_D1.tif'\n",
    "topoPathD2 = 'data/topography_10800x10800_D2.tif'\n",
    "\n",
    "topoArrayPath = []\n",
    "topoArrayPath.append(topoPathA1)\n",
    "topoArrayPath.append(topoPathA2)\n",
    "topoArrayPath.append(topoPathB1)\n",
    "topoArrayPath.append(topoPathB2)\n",
    "topoArrayPath.append(topoPathC1)\n",
    "topoArrayPath.append(topoPathC2)\n",
    "topoArrayPath.append(topoPathD1)\n",
    "topoArrayPath.append(topoPathD2)\n",
    "\n",
    "# Size of tiles\n",
    "xSize, ySize = 256, 256"
   ]
  },
  {
   "cell_type": "code",
   "execution_count": 3,
   "metadata": {},
   "outputs": [],
   "source": [
    "# returns True if we should keep heightmap tilek, otherwise False to discard it\n",
    "# counts how much black in heightmap (to discard only water areas)\n",
    "def comparator(heightmap_chunk):\n",
    "    black_ratio = ((heightmap_chunk==0).sum()*1.0)/float(np.prod(heightmap_chunk.shape))\n",
    "    if black_ratio > 0.9:\n",
    "        return False\n",
    "    return True"
   ]
  },
  {
   "cell_type": "code",
   "execution_count": 4,
   "metadata": {},
   "outputs": [
    {
     "name": "stdout",
     "output_type": "stream",
     "text": [
      "9.032999038696289s for data/topography_10800x10800_A1.tif. Saved 563 images\n",
      "8.418999671936035s for data/topography_10800x10800_A2.tif. Saved 352 images\n",
      "8.775999307632446s for data/topography_10800x10800_B1.tif. Saved 680 images\n",
      "8.899997234344482s for data/topography_10800x10800_B2.tif. Saved 704 images\n",
      "9.523000001907349s for data/topography_10800x10800_C1.tif. Saved 1212 images\n",
      "9.427156925201416s for data/topography_10800x10800_C2.tif. Saved 700 images\n",
      "9.544564008712769s for data/topography_10800x10800_D1.tif. Saved 742 images\n",
      "9.003003120422363s for data/topography_10800x10800_D2.tif. Saved 733 images\n"
     ]
    }
   ],
   "source": [
    "# Cut geotiff images and save to folder, remove images where 90% area is water\n",
    "\n",
    "iterator = 0\n",
    "\n",
    "for srcTifPath in topoArrayPath:\n",
    "    t0 = time.time()\n",
    "    insideIterator = 0\n",
    "    with rasterio.open(srcTifPath) as src:  \n",
    "        for y in range(0, src.width, 256):\n",
    "            for x in range(0, src.height, 256):\n",
    "                iterator += 1\n",
    "                insideIterator += 1\n",
    "                # Create a Window and calculate the transform from the source dataset    \n",
    "                window = Window(x, y, xSize, ySize)\n",
    "                transform = src.window_transform(window)\n",
    "\n",
    "                # Create a new cropped raster to write to\n",
    "                profile = src.profile\n",
    "                profile.update({\n",
    "                    'height': xSize,\n",
    "                    'width': ySize,\n",
    "                    'transform': transform})\n",
    "            \n",
    "                savePathName = 'cut_tif_data/topography_' + str(iterator) + '.tif'\n",
    "                with rasterio.open(savePathName, 'w', **profile) as dst:\n",
    "                    # Read the data from the window and write it to the output raster\n",
    "                    dst.write(src.read(window=window))\n",
    "            \n",
    "                texture = imread(savePathName)\n",
    "            \n",
    "                if not comparator(texture):\n",
    "                    os.remove(savePathName)\n",
    "                    iterator -= 1\n",
    "                    insideIterator -= 1\n",
    "    print(str(time.time()-t0) + 's for ' + srcTifPath + '. Saved ' + str(insideIterator) + ' images')"
   ]
  },
  {
   "cell_type": "code",
   "execution_count": null,
   "metadata": {},
   "outputs": [],
   "source": []
  }
 ],
 "metadata": {
  "kernelspec": {
   "display_name": "Python 3",
   "language": "python",
   "name": "python3"
  },
  "language_info": {
   "codemirror_mode": {
    "name": "ipython",
    "version": 3
   },
   "file_extension": ".py",
   "mimetype": "text/x-python",
   "name": "python",
   "nbconvert_exporter": "python",
   "pygments_lexer": "ipython3",
   "version": "3.8.3"
  }
 },
 "nbformat": 4,
 "nbformat_minor": 4
}
