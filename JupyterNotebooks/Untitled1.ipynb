{
 "cells": [
  {
   "cell_type": "code",
   "execution_count": 2,
   "id": "713d6e1b",
   "metadata": {},
   "outputs": [],
   "source": [
    "import cv2\n",
    "from skimage.io import imread"
   ]
  },
  {
   "cell_type": "code",
   "execution_count": 10,
   "id": "5233d91d",
   "metadata": {},
   "outputs": [],
   "source": [
    "jeden = imread('topography_169.tif')\n",
    "dwa = imread('word_169.png')\n",
    "\n",
    "jeden1 = cv2.pyrUp(jeden, dstsize=(512, 512))\n",
    "dwa1 = cv2.pyrUp(dwa, dstsize=(512, 512))\n",
    "\n",
    "from PIL import Image\n",
    "im = Image.fromarray(jeden1)\n",
    "im.save(\"test.png\")\n",
    "\n",
    "im = Image.fromarray(dwa1)\n",
    "im.save(\"test2.png\")"
   ]
  },
  {
   "cell_type": "code",
   "execution_count": null,
   "id": "1cf34a95",
   "metadata": {},
   "outputs": [],
   "source": []
  }
 ],
 "metadata": {
  "kernelspec": {
   "display_name": "Python 3 (ipykernel)",
   "language": "python",
   "name": "python3"
  },
  "language_info": {
   "codemirror_mode": {
    "name": "ipython",
    "version": 3
   },
   "file_extension": ".py",
   "mimetype": "text/x-python",
   "name": "python",
   "nbconvert_exporter": "python",
   "pygments_lexer": "ipython3",
   "version": "3.8.3"
  }
 },
 "nbformat": 4,
 "nbformat_minor": 5
}
