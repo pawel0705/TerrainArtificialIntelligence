{
 "cells": [
  {
   "cell_type": "code",
   "execution_count": 1,
   "id": "415b1bc1",
   "metadata": {},
   "outputs": [],
   "source": [
    "from tensorflow.keras.models import load_model\n",
    "from tensorflow.keras.preprocessing.image import img_to_array\n",
    "from tensorflow.keras.preprocessing.image import load_img\n",
    "\n",
    "import zmq\n",
    "import numpy as np\n",
    "from matplotlib import pyplot\n",
    "import cv2\n",
    "\n",
    "    \n",
    "from PIL import Image\n",
    "from skimage.io import imread, imsave\n",
    "import io"
   ]
  },
  {
   "cell_type": "code",
   "execution_count": 2,
   "id": "bb1ba5d1",
   "metadata": {},
   "outputs": [
    {
     "name": "stdout",
     "output_type": "stream",
     "text": [
      "WARNING:tensorflow:No training configuration found in the save file, so the model was *not* compiled. Compile it manually.\n"
     ]
    },
    {
     "data": {
      "text/plain": [
       "<SocketContext(bind='tcp://*:5555')>"
      ]
     },
     "execution_count": 2,
     "metadata": {},
     "output_type": "execute_result"
    }
   ],
   "source": [
    "model = load_model('generator_100.h5')\n",
    "\n",
    "context = zmq.Context()\n",
    "socket = context.socket(zmq.REP)\n",
    "socket.bind(\"tcp://*:5555\")"
   ]
  },
  {
   "cell_type": "code",
   "execution_count": 3,
   "id": "4c855d9b",
   "metadata": {},
   "outputs": [],
   "source": [
    "# load an image\n",
    "def load_image(pixels):\n",
    "    # load image with the preferred size\n",
    "    #pixels = load_img(filename, target_size=size)\n",
    "    # convert to numpy array\n",
    "    pixels = img_to_array(pixels)\n",
    "    # scale from [0,255] to [-1,1]\n",
    "    pixels = (pixels - 127.5) / 127.5\n",
    "    # reshape to 1 sample\n",
    "    pixels = np.expand_dims(pixels, 0)\n",
    "    return pixels"
   ]
  },
  {
   "cell_type": "code",
   "execution_count": null,
   "id": "2501d765",
   "metadata": {},
   "outputs": [
    {
     "name": "stdout",
     "output_type": "stream",
     "text": [
      "1\n",
      "2\n"
     ]
    },
    {
     "name": "stderr",
     "output_type": "stream",
     "text": [
      "C:\\Users\\pawel\\anaconda3\\envs\\mag1\\lib\\site-packages\\ipykernel_launcher.py:13: UserWarning: predicted_map.png is a low contrast image\n",
      "  del sys.path[0]\n"
     ]
    },
    {
     "name": "stdout",
     "output_type": "stream",
     "text": [
      "3\n",
      "4\n",
      "5\n",
      "6\n",
      "7\n"
     ]
    }
   ],
   "source": [
    "i = 0\n",
    "\n",
    "while True:\n",
    "    i+=1\n",
    "    bytes_received = socket.recv()\n",
    "    image = Image.open(io.BytesIO(bytes_received))\n",
    "    image = load_image(image)\n",
    "    gen_image = model.predict(image)\n",
    "    # scale from [-1,1] to [0,1]\n",
    "    gen_image = (gen_image + 1) / 2.0    \n",
    "    print(i)\n",
    "\n",
    "    imsave('predicted_map.png', (gen_image[0] * 255.0).astype(np.uint8))\n",
    "    predicted_map = imread('predicted_map.png')\n",
    "    predicted_map = np.rot90(predicted_map, 3)\n",
    "    # predicted_map = predicted_map.ravel()\n",
    "    #print(predicted_map.shape)\n",
    "    bytes_to_send = predicted_map.tobytes()\n",
    "    \n",
    "    socket.send(bytes_to_send)"
   ]
  },
  {
   "cell_type": "code",
   "execution_count": null,
   "id": "c051b5d6",
   "metadata": {},
   "outputs": [],
   "source": []
  }
 ],
 "metadata": {
  "kernelspec": {
   "display_name": "Python 3",
   "language": "python",
   "name": "python3"
  },
  "language_info": {
   "codemirror_mode": {
    "name": "ipython",
    "version": 3
   },
   "file_extension": ".py",
   "mimetype": "text/x-python",
   "name": "python",
   "nbconvert_exporter": "python",
   "pygments_lexer": "ipython3",
   "version": "3.6.13"
  }
 },
 "nbformat": 4,
 "nbformat_minor": 5
}
