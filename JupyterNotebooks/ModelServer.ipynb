{
 "cells": [
  {
   "cell_type": "code",
   "execution_count": null,
   "id": "415b1bc1",
   "metadata": {},
   "outputs": [],
   "source": [
    "from tensorflow.keras.models import load_model\n",
    "from tensorflow.keras.preprocessing.image import img_to_array\n",
    "from tensorflow.keras.preprocessing.image import load_img\n",
    "from matplotlib import pyplot    \n",
    "from PIL import Image\n",
    "from skimage.io import imread, imsave\n",
    "\n",
    "import zmq\n",
    "import numpy as np\n",
    "import cv2\n",
    "import io\n",
    "import timeit"
   ]
  },
  {
   "cell_type": "code",
   "execution_count": null,
   "id": "e844f86a",
   "metadata": {},
   "outputs": [],
   "source": [
    "# Parameters to change !!!\n",
    "\n",
    "generatorPath = 'generator_100.h5'\n",
    "socketBind = 'tcp://*:5555'"
   ]
  },
  {
   "cell_type": "code",
   "execution_count": null,
   "id": "bb1ba5d1",
   "metadata": {},
   "outputs": [],
   "source": [
    "model = load_model(generatorPath)\n",
    "\n",
    "context = zmq.Context()\n",
    "socket = context.socket(zmq.REP)\n",
    "socket.bind(socketBind)"
   ]
  },
  {
   "cell_type": "code",
   "execution_count": null,
   "id": "4c855d9b",
   "metadata": {},
   "outputs": [],
   "source": [
    "# load an image\n",
    "def load_image(pixels):\n",
    "    # load image with the preferred size\n",
    "    # convert to numpy array\n",
    "    pixels = img_to_array(pixels)\n",
    "    # scale from [0,255] to [-1,1]\n",
    "    pixels = (pixels - 127.5) / 127.5\n",
    "    # reshape to 1 sample\n",
    "    pixels = np.expand_dims(pixels, 0)\n",
    "    return pixels"
   ]
  },
  {
   "cell_type": "code",
   "execution_count": null,
   "id": "2501d765",
   "metadata": {},
   "outputs": [],
   "source": [
    "while True:\n",
    "    bytes_received = socket.recv()\n",
    "    print('Received sketch. Processing...')\n",
    "    start = timeit.default_timer()\n",
    "    image = Image.open(io.BytesIO(bytes_received))\n",
    "    image = load_image(image)\n",
    "    gen_image = model.predict(image)\n",
    "    # scale from [-1,1] to [0,1]\n",
    "    gen_image = (gen_image + 1) / 2.0    \n",
    "\n",
    "    imsave('predicted_map.png', (gen_image[0] * 255.0).astype(np.uint8))\n",
    "    predicted_map = imread('predicted_map.png')\n",
    "    predicted_map = np.rot90(predicted_map, 3)\n",
    "        \n",
    "    bytes_to_send = predicted_map.tobytes()\n",
    "    socket.send(bytes_to_send)\n",
    "    stop = timeit.default_timer()\n",
    "    print('Created heightmap. Time [s]: ', stop - start) "
   ]
  },
  {
   "cell_type": "code",
   "execution_count": null,
   "id": "c051b5d6",
   "metadata": {},
   "outputs": [],
   "source": []
  }
 ],
 "metadata": {
  "kernelspec": {
   "display_name": "Python 3 (ipykernel)",
   "language": "python",
   "name": "python3"
  },
  "language_info": {
   "codemirror_mode": {
    "name": "ipython",
    "version": 3
   },
   "file_extension": ".py",
   "mimetype": "text/x-python",
   "name": "python",
   "nbconvert_exporter": "python",
   "pygments_lexer": "ipython3",
   "version": "3.8.3"
  }
 },
 "nbformat": 4,
 "nbformat_minor": 5
}
