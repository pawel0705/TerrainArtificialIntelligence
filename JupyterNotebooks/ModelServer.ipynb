{
 "cells": [
  {
   "cell_type": "code",
   "execution_count": null,
   "id": "415b1bc1",
   "metadata": {},
   "outputs": [],
   "source": [
    "import zmq\n",
    "import numpy as np\n",
    "import cv2\n",
    "import io\n",
    "import timeit\n",
    "\n",
    "from tensorflow.keras.models import load_model\n",
    "from tensorflow.keras.preprocessing.image import img_to_array\n",
    "from tensorflow.keras.preprocessing.image import load_img\n",
    "from tensorflow.python.ops.numpy_ops import np_config\n",
    "from PIL import Image\n",
    "\n",
    "np_config.enable_numpy_behavior()"
   ]
  },
  {
   "cell_type": "code",
   "execution_count": null,
   "id": "e844f86a",
   "metadata": {},
   "outputs": [],
   "source": [
    "# Parameters to change !!!\n",
    "\n",
    "generatorPath = 'generator_heightmap.h5'\n",
    "socketBind = 'tcp://*:5555'"
   ]
  },
  {
   "cell_type": "code",
   "execution_count": null,
   "id": "5194245b",
   "metadata": {},
   "outputs": [],
   "source": [
    "print(\"Server starting...\");"
   ]
  },
  {
   "cell_type": "code",
   "execution_count": null,
   "id": "b6ccbb7c",
   "metadata": {
    "scrolled": true
   },
   "outputs": [],
   "source": [
    "print(\"Loading model...\")\n",
    "model = load_model(generatorPath)"
   ]
  },
  {
   "cell_type": "code",
   "execution_count": null,
   "id": "2f02df83",
   "metadata": {},
   "outputs": [],
   "source": [
    "print(\"Model loaded.\")\n",
    "print(\"Performing a preliminary prediction...\")\n",
    "tmpArray = np.zeros(shape=(1, 512, 512, 3))\n",
    "tmpData = model(tmpArray)"
   ]
  },
  {
   "cell_type": "code",
   "execution_count": null,
   "id": "bb1ba5d1",
   "metadata": {},
   "outputs": [],
   "source": [
    "print(\"Establishing a connection...\")\n",
    "context = zmq.Context()\n",
    "socket = context.socket(zmq.REP)\n",
    "socket.bind(socketBind)"
   ]
  },
  {
   "cell_type": "code",
   "execution_count": null,
   "id": "4c855d9b",
   "metadata": {},
   "outputs": [],
   "source": [
    "def load_image(pixels):\n",
    "    pixels = img_to_array(pixels)\n",
    "    pixels = (pixels - 127.5) / 127.5\n",
    "    pixels = np.expand_dims(pixels, 0)\n",
    "    \n",
    "    return pixels"
   ]
  },
  {
   "cell_type": "code",
   "execution_count": null,
   "id": "2501d765",
   "metadata": {
    "scrolled": false
   },
   "outputs": [],
   "source": [
    "print(\"Ready. Waiting for data.\")\n",
    "\n",
    "while True:\n",
    "    bytes_received = socket.recv(zmq.CONFLATE)\n",
    "    print('Received sketch. Processing...')\n",
    "    start = timeit.default_timer()\n",
    "    image = Image.open(io.BytesIO(bytes_received))\n",
    "    image = load_image(image)\n",
    "    \n",
    "    gen_image = model(image)\n",
    "    gen_image = (gen_image + 1) / 2.0    \n",
    "    \n",
    "    predicted_map = (gen_image[0] * 255.0).astype(np.uint8)   \n",
    "    \n",
    "    predicted_map = cv2.medianBlur(np.array(predicted_map),5)\n",
    "    bytes_to_send = predicted_map.tobytes()\n",
    "       \n",
    "    socket.send(bytes_to_send)\n",
    "    stop = timeit.default_timer()\n",
    "    print('Created heightmap. Time [s]: ', stop - start) "
   ]
  },
  {
   "cell_type": "code",
   "execution_count": null,
   "id": "c051b5d6",
   "metadata": {},
   "outputs": [],
   "source": []
  }
 ],
 "metadata": {
  "kernelspec": {
   "display_name": "Python 3",
   "language": "python",
   "name": "python3"
  },
  "language_info": {
   "codemirror_mode": {
    "name": "ipython",
    "version": 3
   },
   "file_extension": ".py",
   "mimetype": "text/x-python",
   "name": "python",
   "nbconvert_exporter": "python",
   "pygments_lexer": "ipython3",
   "version": "3.6.13"
  }
 },
 "nbformat": 4,
 "nbformat_minor": 5
}
