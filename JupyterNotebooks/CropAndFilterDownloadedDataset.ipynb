{
 "cells": [
  {
   "cell_type": "code",
   "execution_count": null,
   "metadata": {},
   "outputs": [],
   "source": [
    "# Imports\n",
    "import rasterio\n",
    "import time\n",
    "import numpy as np\n",
    "import os\n",
    "import h5py\n",
    "import cv2\n",
    "\n",
    "from rasterio.windows import Window\n",
    "from skimage.io import imread\n",
    "from PIL import Image"
   ]
  },
  {
   "cell_type": "code",
   "execution_count": null,
   "metadata": {},
   "outputs": [],
   "source": [
    "# DATA TO CHANGE !!!\n",
    "\n",
    "tileIteratorStart = 0                                                                                                                                                                 \n",
    "tileNumber = 0\n",
    "\n",
    "DEMpath = 'data/TerrainPreparedData/Alpy/alpy_raw_' + str(tileNumber) + '_1801.tif'\n",
    "TIFFpath = 'data/TerrainPreparedData/Alpy/alpy_txt_' + str(tileNumber) + '_1801.tif'\n",
    "\n",
    "DEMSavePath = 'heightmapsDEM_Alpy_256'\n",
    "TIFFSavePath = 'heightmapsTIFF_Alpy_256'\n",
    "\n",
    "tileSize = 1801\n",
    "\n",
    "# Size of tiles\n",
    "xSize, ySize = 256, 256\n",
    "\n",
    "#crop shift\n",
    "xShift, yShift = 128, 128"
   ]
  },
  {
   "cell_type": "code",
   "execution_count": null,
   "metadata": {},
   "outputs": [],
   "source": [
    "def comparator(heightmap_chunk):\n",
    "    heightmap_chunk = ((heightmap_chunk - heightmap_chunk.min()) * (1/(heightmap_chunk.max() - heightmap_chunk.min()) * 255)).astype('uint8')\n",
    "    black_ratio = ((heightmap_chunk <= 40).sum()*1.0) /float(np.prod(heightmap_chunk.shape))\n",
    "\n",
    "    if black_ratio > 0.55:\n",
    "        return False\n",
    "    return True"
   ]
  },
  {
   "cell_type": "code",
   "execution_count": null,
   "metadata": {
    "scrolled": true
   },
   "outputs": [],
   "source": [
    "iterator = tileIteratorStart\n",
    "\n",
    "if not os.path.exists(TIFFSavePath):\n",
    "    os.makedirs(TIFFSavePath)\n",
    "    \n",
    "if not os.path.exists(DEMSavePath):\n",
    "    os.makedirs(DEMSavePath)\n",
    "    \n",
    "Image.MAX_IMAGE_PIXELS = None\n",
    "    \n",
    "t0 = time.time()\n",
    "\n",
    "demData = rasterio.open(DEMpath)\n",
    "tifData = rasterio.open(TIFFpath)\n",
    "\n",
    "for y in range(0, demData.width, yShift):\n",
    "    for x in range(0, demData.height, xShift):\n",
    "\n",
    "        if x > (tileSize - xShift) or y > (tileSize - yShift):\n",
    "            continue\n",
    "                   \n",
    "        cropTextureX = x+xSize\n",
    "        cropTextureY = y+ySize\n",
    "\n",
    "        iterator += 1\n",
    " \n",
    "        windowDEM = Window(x, y, xSize, ySize)\n",
    "        transformDEM = demData.window_transform(windowDEM)\n",
    "        \n",
    "        windowTIFF = Window(x, y, xSize, ySize)\n",
    "        transformTIFF = tifData.window_transform(windowTIFF)\n",
    "\n",
    "        profileDEM = demData.profile\n",
    "        profileDEM.update({\n",
    "            'height': xSize,\n",
    "            'width': ySize,\n",
    "            'transform': transformDEM})\n",
    "        \n",
    "        profileTIFF = tifData.profile\n",
    "        profileTIFF.update({\n",
    "            'height': xSize,\n",
    "            'width': ySize,\n",
    "            'transform': transformTIFF})\n",
    "        \n",
    "        DEMSavePathName = DEMSavePath + '/topography_' + str(iterator) + '.tif'\n",
    "        TIFFSavePathName = TIFFSavePath + '/topography_' + str(iterator) + '.tif'\n",
    "        \n",
    "        with rasterio.open(DEMSavePathName, 'w', **profileDEM) as dstDEM:\n",
    "            dstDEM.write(demData.read(window=windowDEM))\n",
    "        \n",
    "        with rasterio.open(TIFFSavePathName, 'w', **profileTIFF) as dstTIFF:\n",
    "            dstTIFF.write(tifData.read(window=windowTIFF))\n",
    "\n",
    "        TIFFTexture = imread(TIFFSavePathName)\n",
    "\n",
    "        if not comparator(TIFFTexture):\n",
    "            os.remove(TIFFSavePathName)\n",
    "            os.remove(DEMSavePathName)\n",
    "            iterator -= 1\n",
    "\n",
    "print(str(time.time()-t0) + 's for ' + TIFFSavePath + '. Saved ' + str(iterator) + ' images')"
   ]
  },
  {
   "cell_type": "code",
   "execution_count": null,
   "metadata": {},
   "outputs": [],
   "source": []
  }
 ],
 "metadata": {
  "kernelspec": {
   "display_name": "Python 3",
   "language": "python",
   "name": "python3"
  },
  "language_info": {
   "codemirror_mode": {
    "name": "ipython",
    "version": 3
   },
   "file_extension": ".py",
   "mimetype": "text/x-python",
   "name": "python",
   "nbconvert_exporter": "python",
   "pygments_lexer": "ipython3",
   "version": "3.6.13"
  }
 },
 "nbformat": 4,
 "nbformat_minor": 4
}
