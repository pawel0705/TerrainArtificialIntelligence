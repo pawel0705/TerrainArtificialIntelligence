{
 "cells": [
  {
   "cell_type": "code",
   "execution_count": 1,
   "id": "c0313b5f",
   "metadata": {
    "scrolled": false
   },
   "outputs": [],
   "source": [
    "from tensorflow.keras.models import load_model\n",
    "from tensorflow.keras.preprocessing.image import img_to_array\n",
    "from tensorflow.keras.preprocessing.image import load_img\n",
    "from PIL import Image\n",
    "import io\n",
    "import numpy as np\n",
    "from matplotlib import pyplot \n",
    "import glob\n",
    "import cv2\n",
    "from skimage.metrics import structural_similarity as ssim"
   ]
  },
  {
   "cell_type": "code",
   "execution_count": 2,
   "id": "d0672baa",
   "metadata": {},
   "outputs": [],
   "source": [
    "generatorPath = 'generator_6 (2).h5'\n",
    "imagesValPath = 'images/val128'\n",
    "\n",
    "mseList = []\n",
    "ssimList = []"
   ]
  },
  {
   "cell_type": "code",
   "execution_count": 3,
   "id": "77e939b8",
   "metadata": {},
   "outputs": [
    {
     "name": "stdout",
     "output_type": "stream",
     "text": [
      "WARNING:tensorflow:No training configuration found in the save file, so the model was *not* compiled. Compile it manually.\n"
     ]
    }
   ],
   "source": [
    "model = load_model(generatorPath)"
   ]
  },
  {
   "cell_type": "code",
   "execution_count": 4,
   "id": "8a7cd0d0",
   "metadata": {},
   "outputs": [],
   "source": [
    "# load an image\n",
    "def load_image(pixels):\n",
    "    # load image with the preferred size\n",
    "    # convert to numpy array\n",
    "    pixels = img_to_array(pixels)\n",
    "    # scale from [0,255] to [-1,1]\n",
    "    pixels = (pixels - 127.5) / 127.5\n",
    "    # reshape to 1 sample\n",
    "    pixels = np.expand_dims(pixels, 0)\n",
    "    return pixels"
   ]
  },
  {
   "cell_type": "code",
   "execution_count": 5,
   "id": "b49985c7",
   "metadata": {},
   "outputs": [],
   "source": [
    "def mse(imageA, imageB):\n",
    "    # the 'Mean Squared Error' between the two images is the\n",
    "    # sum of the squared difference between the two images;\n",
    "    # NOTE: the two images must have the same dimension\n",
    "    err = np.sum((imageA.astype(\"float\") - imageB.astype(\"float\")) ** 2)\n",
    "    err /= float(imageA.shape[0] * imageA.shape[1])\n",
    "\n",
    "    # return the MSE, the lower the error, the more \"similar\"\n",
    "    # the two images are\n",
    "    return err\n",
    "\n",
    "\n",
    "def compare_images(imageA, imageB, title):\n",
    "    # compute the mean squared error and structural similarity\n",
    "    # index for the images\n",
    "    m = mse(imageA, imageB)\n",
    "    s = ssim(imageA, imageB)\n",
    "    \n",
    "    mseList.append(m)\n",
    "    ssimList.append(s)\n",
    "    \n",
    "    '''\n",
    "    # setup the figure\n",
    "    fig = pyplot.figure(title)\n",
    "    pyplot.suptitle(\"MSE: %.2f, SSIM: %.2f\" % (m, s))\n",
    "    # show first image\n",
    "    ax = fig.add_subplot(1, 2, 1)\n",
    "    pyplot.imshow(imageA, cmap = pyplot.cm.gray)\n",
    "    pyplot.axis(\"off\")\n",
    "    # show the second image\n",
    "    ax = fig.add_subplot(1, 2, 2)\n",
    "    pyplot.imshow(imageB, cmap = pyplot.cm.gray)\n",
    "    pyplot.axis(\"off\")\n",
    "    # show the images\n",
    "    pyplot.show()\n",
    "    '''"
   ]
  },
  {
   "cell_type": "code",
   "execution_count": 6,
   "id": "4bf6d9ca",
   "metadata": {},
   "outputs": [],
   "source": [
    "def average(lst):\n",
    "    return sum(lst) / len(lst)"
   ]
  },
  {
   "cell_type": "code",
   "execution_count": 7,
   "id": "660f7a2a",
   "metadata": {},
   "outputs": [],
   "source": [
    "image_list = []\n",
    "for filename in glob.glob(imagesValPath + '/*.png'):\n",
    "    img = cv2.imread(filename)\n",
    "    image_list.append(img)\n",
    "\n",
    "sketchList = []\n",
    "heightmapList = []\n",
    "for image in image_list:\n",
    "    width = img.shape[1]\n",
    "\n",
    "    width_cutoff = width // 2\n",
    "    s1 = image[:, :width_cutoff]\n",
    "    s2 = image[:, width_cutoff:]\n",
    "    sketchList.append(s1)\n",
    "    heightmapList.append(s2)    "
   ]
  },
  {
   "cell_type": "code",
   "execution_count": 8,
   "id": "a67f2436",
   "metadata": {
    "scrolled": true
   },
   "outputs": [],
   "source": [
    "for i in range(len(sketchList)):\n",
    "    sketch = sketchList[i]\n",
    "    destination = heightmapList[i]\n",
    "    \n",
    "    sketch = load_image(sketch)\n",
    "    \n",
    "    gen_image = model.predict(sketch)\n",
    "    gen_image = (gen_image + 1) / 2.0    \n",
    "\n",
    "    gen_image = (gen_image[0] * 255.0).astype(np.uint8)\n",
    "    \n",
    "    example_target = cv2.cvtColor(destination, cv2.COLOR_BGR2GRAY)\n",
    "    gen_image = cv2.cvtColor(gen_image, cv2.COLOR_BGR2GRAY)\n",
    "    \n",
    "    compare_images(gen_image, example_target, \"test\")"
   ]
  },
  {
   "cell_type": "code",
   "execution_count": 9,
   "id": "0c452fa0",
   "metadata": {},
   "outputs": [
    {
     "name": "stdout",
     "output_type": "stream",
     "text": [
      "15927.811354522704\n",
      "0.02410199799539747\n"
     ]
    }
   ],
   "source": [
    "averageMse = average(mseList)\n",
    "averageSsim = average(ssimList)\n",
    "\n",
    "print(averageMse)\n",
    "print(averageSsim)"
   ]
  },
  {
   "cell_type": "code",
   "execution_count": null,
   "id": "52bfca21",
   "metadata": {},
   "outputs": [],
   "source": []
  }
 ],
 "metadata": {
  "kernelspec": {
   "display_name": "Python 3",
   "language": "python",
   "name": "python3"
  },
  "language_info": {
   "codemirror_mode": {
    "name": "ipython",
    "version": 3
   },
   "file_extension": ".py",
   "mimetype": "text/x-python",
   "name": "python",
   "nbconvert_exporter": "python",
   "pygments_lexer": "ipython3",
   "version": "3.6.13"
  }
 },
 "nbformat": 4,
 "nbformat_minor": 5
}
