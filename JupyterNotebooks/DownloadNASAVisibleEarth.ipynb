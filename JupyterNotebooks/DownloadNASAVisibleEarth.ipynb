{
 "cells": [
  {
   "cell_type": "code",
   "execution_count": 1,
   "metadata": {},
   "outputs": [],
   "source": [
    "# Downloads map images from NASA Visible Earth"
   ]
  },
  {
   "cell_type": "code",
   "execution_count": 2,
   "metadata": {},
   "outputs": [],
   "source": [
    "#Imports\n",
    "\n",
    "import urllib3\n",
    "import certifi\n",
    "from PIL import Image\n",
    "import io\n",
    "import requests"
   ]
  },
  {
   "cell_type": "code",
   "execution_count": 3,
   "metadata": {},
   "outputs": [],
   "source": [
    "http = urllib3.PoolManager(cert_reqs='CERT_REQUIRED', ca_certs=certifi.where())\n",
    "\n",
    "#decompression bomb protection ovverride - only on known trusted files!\n",
    "Image.MAX_IMAGE_PIXELS = None"
   ]
  },
  {
   "cell_type": "code",
   "execution_count": 4,
   "metadata": {},
   "outputs": [
    {
     "name": "stdout",
     "output_type": "stream",
     "text": [
      "Downloading word map texture...\n",
      "Download status texture word map:  200\n",
      "Saving word map texture...\n",
      "Saved word map\n"
     ]
    }
   ],
   "source": [
    "# Download map word from NASA\n",
    "print('Downloading word map texture...')\n",
    "request = http.request('GET', 'https://eoimages.gsfc.nasa.gov/images/imagerecords/74000/74218/world.200412.3x21600x10800.jpg')\n",
    "print('Download status texture word map: ', request.status)\n",
    "print('Saving word map texture...')\n",
    "stream = io.BytesIO(request.data)\n",
    "mapTexture = Image.open(stream)\n",
    "mapTexture.save(\"data/word.3x21600x10800.jpg\", \"JPEG\", quality=100)\n",
    "print('Saved word map')"
   ]
  },
  {
   "cell_type": "code",
   "execution_count": 5,
   "metadata": {
    "scrolled": true
   },
   "outputs": [
    {
     "name": "stdout",
     "output_type": "stream",
     "text": [
      "Downloading heightmap...\n",
      "Download status word heightmap:  200\n",
      "Saving word heightmap...\n",
      "Saved heightmap\n"
     ]
    }
   ],
   "source": [
    "# Download word heightmap from NASA\n",
    "print('Downloading heightmap...')\n",
    "request = http.request('GET', 'https://eoimages.gsfc.nasa.gov/images/imagerecords/73000/73934/gebco_08_rev_elev_21600x10800.png')\n",
    "print('Download status word heightmap: ', request.status)\n",
    "print('Saving word heightmap...')\n",
    "stream = io.BytesIO(request.data)\n",
    "mapTexture = Image.open(stream)\n",
    "mapTexture.save(\"data/heightmap.3x21600x10800.jpg\", \"JPEG\", quality=100)\n",
    "print('Saved heightmap')"
   ]
  },
  {
   "cell_type": "code",
   "execution_count": 6,
   "metadata": {
    "scrolled": true
   },
   "outputs": [
    {
     "name": "stdout",
     "output_type": "stream",
     "text": [
      "Saved topography 10800x10800 A1\n",
      "Saved topography 10800x10800 A2\n",
      "Saved topography 10800x10800 B1\n",
      "Saved topography 10800x10800 B2\n",
      "Saved topography 10800x10800 C1\n",
      "Saved topography 10800x10800 C2\n",
      "Saved topography 10800x10800 D1\n",
      "Saved topography 10800x10800 D2\n"
     ]
    }
   ],
   "source": [
    "#Topography maps 10800x10800\n",
    "\n",
    "with open('data/topography_10800x10800_A1.tif', 'wb') as f:\n",
    "    ret = requests.get('https://eoimages.gsfc.nasa.gov/images/imagerecords/73000/73934/gebco_08_rev_elev_A1_grey_geo.tif', stream=True)\n",
    "    for data in ret.iter_content(1024):\n",
    "        f.write(data)\n",
    "    print('Saved topography 10800x10800 A1')\n",
    "\n",
    "    \n",
    "with open('data/topography_10800x10800_A2.tif', 'wb') as f:\n",
    "    ret = requests.get('https://eoimages.gsfc.nasa.gov/images/imagerecords/73000/73934/gebco_08_rev_elev_A2_grey_geo.tif', stream=True)\n",
    "    for data in ret.iter_content(1024):\n",
    "        f.write(data)\n",
    "    print('Saved topography 10800x10800 A2')\n",
    "        \n",
    "        \n",
    "with open('data/topography_10800x10800_B1.tif', 'wb') as f:\n",
    "    ret = requests.get('https://eoimages.gsfc.nasa.gov/images/imagerecords/73000/73934/gebco_08_rev_elev_B1_grey_geo.tif', stream=True)\n",
    "    for data in ret.iter_content(1024):\n",
    "        f.write(data)\n",
    "    print('Saved topography 10800x10800 B1')\n",
    "        \n",
    "with open('data/topography_10800x10800_B2.tif', 'wb') as f:\n",
    "    ret = requests.get('https://eoimages.gsfc.nasa.gov/images/imagerecords/73000/73934/gebco_08_rev_elev_B2_grey_geo.tif', stream=True)\n",
    "    for data in ret.iter_content(1024):\n",
    "        f.write(data)\n",
    "    print('Saved topography 10800x10800 B2')\n",
    "        \n",
    "        \n",
    "with open('data/topography_10800x10800_C1.tif', 'wb') as f:\n",
    "    ret = requests.get('https://eoimages.gsfc.nasa.gov/images/imagerecords/73000/73934/gebco_08_rev_elev_C1_grey_geo.tif', stream=True)\n",
    "    for data in ret.iter_content(1024):\n",
    "        f.write(data)\n",
    "    print('Saved topography 10800x10800 C1')\n",
    "        \n",
    "        \n",
    "with open('data/topography_10800x10800_C2.tif', 'wb') as f:\n",
    "    ret = requests.get('https://eoimages.gsfc.nasa.gov/images/imagerecords/73000/73934/gebco_08_rev_elev_C2_grey_geo.tif', stream=True)\n",
    "    for data in ret.iter_content(1024):\n",
    "        f.write(data)\n",
    "    print('Saved topography 10800x10800 C2')\n",
    "        \n",
    "        \n",
    "with open('data/topography_10800x10800_D1.tif', 'wb') as f:\n",
    "    ret = requests.get('https://eoimages.gsfc.nasa.gov/images/imagerecords/73000/73934/gebco_08_rev_elev_D1_grey_geo.tif', stream=True)\n",
    "    for data in ret.iter_content(1024):\n",
    "        f.write(data)\n",
    "    print('Saved topography 10800x10800 D1')\n",
    "        \n",
    "        \n",
    "with open('data/topography_10800x10800_D2.tif', 'wb') as f:\n",
    "    ret = requests.get('https://eoimages.gsfc.nasa.gov/images/imagerecords/73000/73934/gebco_08_rev_elev_D2_grey_geo.tif', stream=True)\n",
    "    for data in ret.iter_content(1024):\n",
    "        f.write(data)\n",
    "    print('Saved topography 10800x10800 D2')"
   ]
  },
  {
   "cell_type": "code",
   "execution_count": 7,
   "metadata": {},
   "outputs": [
    {
     "name": "stdout",
     "output_type": "stream",
     "text": [
      "Saved word 21600x21600 A1\n",
      "Saved word 21600x21600 A2\n",
      "Saved word 21600x21600 B1\n",
      "Saved word 21600x21600 B2\n",
      "Saved word 21600x21600 C1\n",
      "Saved word 21600x21600 C2\n",
      "Saved word 21600x21600 D1\n",
      "Saved word 21600x21600 D2\n"
     ]
    }
   ],
   "source": [
    "# Word maps 21600x21600\n",
    "\n",
    "request = http.request('GET', 'https://eoimages.gsfc.nasa.gov/images/imagerecords/74000/74117/world.200408.3x21600x21600.A1.jpg')\n",
    "stream = io.BytesIO(request.data)\n",
    "mapTexture = Image.open(stream)\n",
    "mapTexture.save(\"data/word_21600x21600_A1.jpg\", \"JPEG\", quality=100)\n",
    "print('Saved word 21600x21600 A1')\n",
    "\n",
    "\n",
    "request = http.request('GET', 'https://eoimages.gsfc.nasa.gov/images/imagerecords/74000/74117/world.200408.3x21600x21600.A2.jpg')\n",
    "stream = io.BytesIO(request.data)\n",
    "mapTexture = Image.open(stream)\n",
    "mapTexture.save(\"data/word_21600x21600_A2.jpg\", \"JPEG\", quality=100)\n",
    "print('Saved word 21600x21600 A2')\n",
    "\n",
    "\n",
    "request = http.request('GET', 'https://eoimages.gsfc.nasa.gov/images/imagerecords/74000/74117/world.200408.3x21600x21600.B1.jpg')\n",
    "stream = io.BytesIO(request.data)\n",
    "mapTexture = Image.open(stream)\n",
    "mapTexture.save(\"data/word_21600x21600_B1.jpg\", \"JPEG\", quality=100)\n",
    "print('Saved word 21600x21600 B1')\n",
    "\n",
    "\n",
    "request = http.request('GET', 'https://eoimages.gsfc.nasa.gov/images/imagerecords/74000/74117/world.200408.3x21600x21600.B2.jpg')\n",
    "stream = io.BytesIO(request.data)\n",
    "mapTexture = Image.open(stream)\n",
    "mapTexture.save(\"data/word_21600x21600_B2.jpg\", \"JPEG\", quality=100)\n",
    "print('Saved word 21600x21600 B2')\n",
    "\n",
    "\n",
    "request = http.request('GET', 'https://eoimages.gsfc.nasa.gov/images/imagerecords/74000/74117/world.200408.3x21600x21600.C1.jpg')\n",
    "stream = io.BytesIO(request.data)\n",
    "mapTexture = Image.open(stream)\n",
    "mapTexture.save(\"data/word_21600x21600_C1.jpg\", \"JPEG\", quality=100)\n",
    "print('Saved word 21600x21600 C1')\n",
    "\n",
    "\n",
    "request = http.request('GET', 'https://eoimages.gsfc.nasa.gov/images/imagerecords/74000/74117/world.200408.3x21600x21600.C2.jpg')\n",
    "stream = io.BytesIO(request.data)\n",
    "mapTexture = Image.open(stream)\n",
    "mapTexture.save(\"data/word_21600x21600_C2.jpg\", \"JPEG\", quality=100)\n",
    "print('Saved word 21600x21600 C2')\n",
    "\n",
    "\n",
    "request = http.request('GET', 'https://eoimages.gsfc.nasa.gov/images/imagerecords/74000/74117/world.200408.3x21600x21600.D1.jpg')\n",
    "stream = io.BytesIO(request.data)\n",
    "mapTexture = Image.open(stream)\n",
    "mapTexture.save(\"data/word_21600x21600_D1.jpg\", \"JPEG\", quality=100)\n",
    "print('Saved word 21600x21600 D1')\n",
    "\n",
    "\n",
    "request = http.request('GET', 'https://eoimages.gsfc.nasa.gov/images/imagerecords/74000/74117/world.200408.3x21600x21600.D2.jpg')\n",
    "stream = io.BytesIO(request.data)\n",
    "mapTexture = Image.open(stream)\n",
    "mapTexture.save(\"data/word_21600x21600_D2.jpg\", \"JPEG\", quality=100)\n",
    "print('Saved word 21600x21600 D2')"
   ]
  },
  {
   "cell_type": "code",
   "execution_count": 8,
   "metadata": {},
   "outputs": [
    {
     "name": "stdout",
     "output_type": "stream",
     "text": [
      "Completed operation\n"
     ]
    }
   ],
   "source": [
    "print('Completed operation')"
   ]
  }
 ],
 "metadata": {
  "kernelspec": {
   "display_name": "Python 3",
   "language": "python",
   "name": "python3"
  },
  "language_info": {
   "codemirror_mode": {
    "name": "ipython",
    "version": 3
   },
   "file_extension": ".py",
   "mimetype": "text/x-python",
   "name": "python",
   "nbconvert_exporter": "python",
   "pygments_lexer": "ipython3",
   "version": "3.8.3"
  }
 },
 "nbformat": 4,
 "nbformat_minor": 4
}
